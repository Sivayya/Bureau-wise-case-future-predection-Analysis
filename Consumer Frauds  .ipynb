{
 "cells": [
  {
   "cell_type": "code",
   "execution_count": 2,
   "metadata": {},
   "outputs": [
    {
     "name": "stdout",
     "output_type": "stream",
     "text": [
      "Requirement already satisfied: xlrd in c:\\users\\adynt\\appdata\\local\\programs\\python\\python35\\lib\\site-packages (1.1.0)\n"
     ]
    }
   ],
   "source": [
    "import warnings\n",
    "import itertools\n",
    "import numpy as np\n",
    "import matplotlib.pyplot as plt\n",
    "warnings.filterwarnings(\"ignore\")\n",
    "plt.style.use('fivethirtyeight')\n",
    "import pandas as pd\n",
    "import statsmodels.api as sm\n",
    "import matplotlib, pandas as pd\n",
    "!pip install xlrd\n",
    "\n",
    "matplotlib.rcParams['axes.labelsize'] = 14\n",
    "matplotlib.rcParams['xtick.labelsize'] = 12\n",
    "matplotlib.rcParams['ytick.labelsize'] = 12\n",
    "matplotlib.rcParams['text.color'] = 'k'"
   ]
  },
  {
   "cell_type": "code",
   "execution_count": 4,
   "metadata": {},
   "outputs": [
    {
     "data": {
      "text/html": [
       "<div>\n",
       "<style scoped>\n",
       "    .dataframe tbody tr th:only-of-type {\n",
       "        vertical-align: middle;\n",
       "    }\n",
       "\n",
       "    .dataframe tbody tr th {\n",
       "        vertical-align: top;\n",
       "    }\n",
       "\n",
       "    .dataframe thead th {\n",
       "        text-align: right;\n",
       "    }\n",
       "</style>\n",
       "<table border=\"1\" class=\"dataframe\">\n",
       "  <thead>\n",
       "    <tr style=\"text-align: right;\">\n",
       "      <th></th>\n",
       "      <th>BUREAU</th>\n",
       "      <th>NoOfDaysTakenConsumerFrauds</th>\n",
       "      <th>YEAR</th>\n",
       "    </tr>\n",
       "  </thead>\n",
       "  <tbody>\n",
       "    <tr>\n",
       "      <th>0</th>\n",
       "      <td>Consumer Frauds</td>\n",
       "      <td>20</td>\n",
       "      <td>2007-01-01</td>\n",
       "    </tr>\n",
       "    <tr>\n",
       "      <th>1</th>\n",
       "      <td>Consumer Frauds</td>\n",
       "      <td>20</td>\n",
       "      <td>2007-02-01</td>\n",
       "    </tr>\n",
       "    <tr>\n",
       "      <th>2</th>\n",
       "      <td>Consumer Frauds</td>\n",
       "      <td>21</td>\n",
       "      <td>2007-03-01</td>\n",
       "    </tr>\n",
       "    <tr>\n",
       "      <th>3</th>\n",
       "      <td>Consumer Frauds</td>\n",
       "      <td>22</td>\n",
       "      <td>2007-04-01</td>\n",
       "    </tr>\n",
       "    <tr>\n",
       "      <th>4</th>\n",
       "      <td>Consumer Frauds</td>\n",
       "      <td>22</td>\n",
       "      <td>2007-05-01</td>\n",
       "    </tr>\n",
       "  </tbody>\n",
       "</table>\n",
       "</div>"
      ],
      "text/plain": [
       "            BUREAU  NoOfDaysTakenConsumerFrauds       YEAR\n",
       "0  Consumer Frauds                           20 2007-01-01\n",
       "1  Consumer Frauds                           20 2007-02-01\n",
       "2  Consumer Frauds                           21 2007-03-01\n",
       "3  Consumer Frauds                           22 2007-04-01\n",
       "4  Consumer Frauds                           22 2007-05-01"
      ]
     },
     "execution_count": 4,
     "metadata": {},
     "output_type": "execute_result"
    }
   ],
   "source": [
    "df = pd.read_excel(\"E:/OAG PREDECTION/forecast1/FUR/oag/OAG.xls\")\n",
    "df.head(5)"
   ]
  },
  {
   "cell_type": "code",
   "execution_count": 5,
   "metadata": {},
   "outputs": [],
   "source": [
    "oag= df.loc[df['BUREAU'] == 'Consumer Frauds']"
   ]
  },
  {
   "cell_type": "code",
   "execution_count": 6,
   "metadata": {},
   "outputs": [
    {
     "data": {
      "text/plain": [
       "(Timestamp('2007-01-01 00:00:00'), Timestamp('2017-12-01 00:00:00'))"
      ]
     },
     "execution_count": 6,
     "metadata": {},
     "output_type": "execute_result"
    }
   ],
   "source": [
    "oag['YEAR'].min(), oag['YEAR'].max()"
   ]
  },
  {
   "cell_type": "code",
   "execution_count": 7,
   "metadata": {},
   "outputs": [
    {
     "data": {
      "text/plain": [
       "NoOfDaysTakenConsumerFrauds    0\n",
       "YEAR                           0\n",
       "dtype: int64"
      ]
     },
     "execution_count": 7,
     "metadata": {},
     "output_type": "execute_result"
    }
   ],
   "source": [
    "cols = ['BUREAU']\n",
    "oag.drop(cols, axis=1, inplace=True)\n",
    "oag   = oag.sort_values('YEAR')\n",
    "\n",
    "oag.isnull().sum()"
   ]
  },
  {
   "cell_type": "code",
   "execution_count": 8,
   "metadata": {},
   "outputs": [],
   "source": [
    "oag = oag.groupby('YEAR')['NoOfDaysTakenConsumerFrauds'].mean().reset_index()"
   ]
  },
  {
   "cell_type": "code",
   "execution_count": 9,
   "metadata": {},
   "outputs": [
    {
     "data": {
      "text/html": [
       "<div>\n",
       "<style scoped>\n",
       "    .dataframe tbody tr th:only-of-type {\n",
       "        vertical-align: middle;\n",
       "    }\n",
       "\n",
       "    .dataframe tbody tr th {\n",
       "        vertical-align: top;\n",
       "    }\n",
       "\n",
       "    .dataframe thead th {\n",
       "        text-align: right;\n",
       "    }\n",
       "</style>\n",
       "<table border=\"1\" class=\"dataframe\">\n",
       "  <thead>\n",
       "    <tr style=\"text-align: right;\">\n",
       "      <th></th>\n",
       "      <th>YEAR</th>\n",
       "      <th>NoOfDaysTakenConsumerFrauds</th>\n",
       "    </tr>\n",
       "  </thead>\n",
       "  <tbody>\n",
       "    <tr>\n",
       "      <th>0</th>\n",
       "      <td>2007-01-01</td>\n",
       "      <td>20</td>\n",
       "    </tr>\n",
       "    <tr>\n",
       "      <th>1</th>\n",
       "      <td>2007-02-01</td>\n",
       "      <td>20</td>\n",
       "    </tr>\n",
       "    <tr>\n",
       "      <th>2</th>\n",
       "      <td>2007-03-01</td>\n",
       "      <td>21</td>\n",
       "    </tr>\n",
       "    <tr>\n",
       "      <th>3</th>\n",
       "      <td>2007-04-01</td>\n",
       "      <td>22</td>\n",
       "    </tr>\n",
       "    <tr>\n",
       "      <th>4</th>\n",
       "      <td>2007-05-01</td>\n",
       "      <td>22</td>\n",
       "    </tr>\n",
       "  </tbody>\n",
       "</table>\n",
       "</div>"
      ],
      "text/plain": [
       "        YEAR  NoOfDaysTakenConsumerFrauds\n",
       "0 2007-01-01                           20\n",
       "1 2007-02-01                           20\n",
       "2 2007-03-01                           21\n",
       "3 2007-04-01                           22\n",
       "4 2007-05-01                           22"
      ]
     },
     "execution_count": 9,
     "metadata": {},
     "output_type": "execute_result"
    }
   ],
   "source": [
    "oag.head()"
   ]
  },
  {
   "cell_type": "code",
   "execution_count": 10,
   "metadata": {},
   "outputs": [
    {
     "data": {
      "text/plain": [
       "DatetimeIndex(['2007-01-01', '2007-02-01', '2007-03-01', '2007-04-01',\n",
       "               '2007-05-01', '2007-06-01', '2007-07-01', '2007-08-01',\n",
       "               '2007-09-01', '2007-10-01',\n",
       "               ...\n",
       "               '2017-03-01', '2017-04-01', '2017-05-01', '2017-06-01',\n",
       "               '2017-07-01', '2017-08-01', '2017-09-01', '2017-10-01',\n",
       "               '2017-11-01', '2017-12-01'],\n",
       "              dtype='datetime64[ns]', name='YEAR', length=132, freq=None)"
      ]
     },
     "execution_count": 10,
     "metadata": {},
     "output_type": "execute_result"
    }
   ],
   "source": [
    "oag = oag.set_index('YEAR')\n",
    "oag.index"
   ]
  },
  {
   "cell_type": "code",
   "execution_count": 11,
   "metadata": {},
   "outputs": [
    {
     "data": {
      "text/plain": [
       "YEAR\n",
       "2007-01-01     20\n",
       "2007-02-01     20\n",
       "2007-03-01     21\n",
       "2007-04-01     22\n",
       "2007-05-01     22\n",
       "2007-06-01     22\n",
       "2007-07-01     22\n",
       "2007-08-01     23\n",
       "2007-09-01     24\n",
       "2007-10-01     24\n",
       "2007-11-01     25\n",
       "2007-12-01     25\n",
       "2008-01-01     25\n",
       "2008-02-01     26\n",
       "2008-03-01     26\n",
       "2008-04-01     26\n",
       "2008-05-01     27\n",
       "2008-06-01     27\n",
       "2008-07-01     27\n",
       "2008-08-01     27\n",
       "2008-09-01     28\n",
       "2008-10-01     28\n",
       "2008-11-01     29\n",
       "2008-12-01     29\n",
       "2009-01-01     29\n",
       "2009-02-01     30\n",
       "2009-03-01     30\n",
       "2009-04-01     30\n",
       "2009-05-01     30\n",
       "2009-06-01     30\n",
       "             ... \n",
       "2015-07-01     65\n",
       "2015-08-01     65\n",
       "2015-09-01     65\n",
       "2015-10-01     66\n",
       "2015-11-01     66\n",
       "2015-12-01     68\n",
       "2016-01-01     70\n",
       "2016-02-01     73\n",
       "2016-03-01     73\n",
       "2016-04-01     74\n",
       "2016-05-01     75\n",
       "2016-06-01     76\n",
       "2016-07-01     77\n",
       "2016-08-01     79\n",
       "2016-09-01     80\n",
       "2016-10-01     80\n",
       "2016-11-01     85\n",
       "2016-12-01     85\n",
       "2017-01-01     88\n",
       "2017-02-01     89\n",
       "2017-03-01     91\n",
       "2017-04-01     97\n",
       "2017-05-01     98\n",
       "2017-06-01    103\n",
       "2017-07-01    106\n",
       "2017-08-01    112\n",
       "2017-09-01    113\n",
       "2017-10-01    114\n",
       "2017-11-01    122\n",
       "2017-12-01    133\n",
       "Freq: MS, Name: NoOfDaysTakenConsumerFrauds, Length: 132, dtype: int64"
      ]
     },
     "execution_count": 11,
     "metadata": {},
     "output_type": "execute_result"
    }
   ],
   "source": [
    "y = oag['NoOfDaysTakenConsumerFrauds'].resample('MS').mean()\n",
    "y\n"
   ]
  },
  {
   "cell_type": "code",
   "execution_count": 12,
   "metadata": {},
   "outputs": [
    {
     "data": {
      "text/plain": [
       "YEAR\n",
       "2007-01-01     20\n",
       "2007-02-01     20\n",
       "2007-03-01     21\n",
       "2007-04-01     22\n",
       "2007-05-01     22\n",
       "2007-06-01     22\n",
       "2007-07-01     22\n",
       "2007-08-01     23\n",
       "2007-09-01     24\n",
       "2007-10-01     24\n",
       "2007-11-01     25\n",
       "2007-12-01     25\n",
       "2008-01-01     25\n",
       "2008-02-01     26\n",
       "2008-03-01     26\n",
       "2008-04-01     26\n",
       "2008-05-01     27\n",
       "2008-06-01     27\n",
       "2008-07-01     27\n",
       "2008-08-01     27\n",
       "2008-09-01     28\n",
       "2008-10-01     28\n",
       "2008-11-01     29\n",
       "2008-12-01     29\n",
       "2009-01-01     29\n",
       "2009-02-01     30\n",
       "2009-03-01     30\n",
       "2009-04-01     30\n",
       "2009-05-01     30\n",
       "2009-06-01     30\n",
       "             ... \n",
       "2015-07-01     65\n",
       "2015-08-01     65\n",
       "2015-09-01     65\n",
       "2015-10-01     66\n",
       "2015-11-01     66\n",
       "2015-12-01     68\n",
       "2016-01-01     70\n",
       "2016-02-01     73\n",
       "2016-03-01     73\n",
       "2016-04-01     74\n",
       "2016-05-01     75\n",
       "2016-06-01     76\n",
       "2016-07-01     77\n",
       "2016-08-01     79\n",
       "2016-09-01     80\n",
       "2016-10-01     80\n",
       "2016-11-01     85\n",
       "2016-12-01     85\n",
       "2017-01-01     88\n",
       "2017-02-01     89\n",
       "2017-03-01     91\n",
       "2017-04-01     97\n",
       "2017-05-01     98\n",
       "2017-06-01    103\n",
       "2017-07-01    106\n",
       "2017-08-01    112\n",
       "2017-09-01    113\n",
       "2017-10-01    114\n",
       "2017-11-01    122\n",
       "2017-12-01    133\n",
       "Freq: MS, Name: NoOfDaysTakenConsumerFrauds, Length: 132, dtype: int64"
      ]
     },
     "execution_count": 12,
     "metadata": {},
     "output_type": "execute_result"
    }
   ],
   "source": [
    "y['2007':]"
   ]
  },
  {
   "cell_type": "code",
   "execution_count": 13,
   "metadata": {},
   "outputs": [
    {
     "data": {
      "image/png": "[encoded data removed]",
      "text/plain": [
       "<Figure size 1080x432 with 1 Axes>"
      ]
     },
     "metadata": {
      "needs_background": "light"
     },
     "output_type": "display_data"
    }
   ],
   "source": [
    "y.plot(figsize=(15, 6))\n",
    "plt.show()"
   ]
  },
  {
   "cell_type": "code",
   "execution_count": 14,
   "metadata": {},
   "outputs": [
    {
     "name": "stdout",
     "output_type": "stream",
     "text": [
      "Examples of parameter combinations for Seasonal ARIMA...\n",
      "SARIMAX: (0, 0, 1) x (0, 0, 1, 12)\n",
      "SARIMAX: (0, 0, 1) x (0, 1, 0, 12)\n",
      "SARIMAX: (0, 1, 0) x (0, 1, 1, 12)\n",
      "SARIMAX: (0, 1, 0) x (1, 0, 0, 12)\n"
     ]
    }
   ],
   "source": [
    "p = d = q = range(0, 2)\n",
    "pdq = list(itertools.product(p, d, q))\n",
    "seasonal_pdq = [(x[0], x[1], x[2], 12) for x in list(itertools.product(p, d, q))]\n",
    "\n",
    "print('Examples of parameter combinations for Seasonal ARIMA...')\n",
    "print('SARIMAX: {} x {}'.format(pdq[1], seasonal_pdq[1]))\n",
    "print('SARIMAX: {} x {}'.format(pdq[1], seasonal_pdq[2]))\n",
    "print('SARIMAX: {} x {}'.format(pdq[2], seasonal_pdq[3]))\n",
    "print('SARIMAX: {} x {}'.format(pdq[2], seasonal_pdq[4]))"
   ]
  },
  {
   "cell_type": "code",
   "execution_count": 55,
   "metadata": {},
   "outputs": [
    {
     "name": "stdout",
     "output_type": "stream",
     "text": [
      "ARIMA(0, 0, 0)x(0, 0, 0, 12)12 - AIC:1929.637810408949\n",
      "ARIMA(0, 0, 0)x(0, 0, 1, 12)12 - AIC:1768.2734859923655\n",
      "ARIMA(0, 0, 0)x(0, 1, 0, 12)12 - AIC:1324.3362305321189\n",
      "ARIMA(0, 0, 0)x(0, 1, 1, 12)12 - AIC:1034.6166543914464\n",
      "ARIMA(0, 0, 0)x(1, 0, 0, 12)12 - AIC:1295.182801399672\n",
      "ARIMA(0, 0, 0)x(1, 0, 1, 12)12 - AIC:1254.454312332127\n",
      "ARIMA(0, 0, 0)x(1, 1, 0, 12)12 - AIC:1015.7505641109636\n",
      "ARIMA(0, 0, 0)x(1, 1, 1, 12)12 - AIC:991.1835428430394\n",
      "ARIMA(0, 0, 1)x(0, 0, 0, 12)12 - AIC:1743.8248314249022\n",
      "ARIMA(0, 0, 1)x(0, 0, 1, 12)12 - AIC:1473.0450962430136\n",
      "ARIMA(0, 0, 1)x(0, 1, 0, 12)12 - AIC:1162.2310797550385\n",
      "ARIMA(0, 0, 1)x(0, 1, 1, 12)12 - AIC:892.9230350930939\n",
      "ARIMA(0, 0, 1)x(1, 0, 0, 12)12 - AIC:1147.9714479316474\n",
      "ARIMA(0, 0, 1)x(1, 0, 1, 12)12 - AIC:1105.8477817383484\n",
      "ARIMA(0, 0, 1)x(1, 1, 0, 12)12 - AIC:904.8833859454726\n",
      "ARIMA(0, 0, 1)x(1, 1, 1, 12)12 - AIC:885.5361722286841\n",
      "ARIMA(0, 1, 0)x(0, 0, 0, 12)12 - AIC:895.410695005342\n",
      "ARIMA(0, 1, 0)x(0, 0, 1, 12)12 - AIC:803.091965133046\n",
      "ARIMA(0, 1, 0)x(0, 1, 0, 12)12 - AIC:865.70549681388\n",
      "ARIMA(0, 1, 0)x(0, 1, 1, 12)12 - AIC:648.9643322879177\n",
      "ARIMA(0, 1, 0)x(1, 0, 0, 12)12 - AIC:809.7212291669499\n",
      "ARIMA(0, 1, 0)x(1, 0, 1, 12)12 - AIC:762.9011066741823\n",
      "ARIMA(0, 1, 0)x(1, 1, 0, 12)12 - AIC:675.5548863306399\n",
      "ARIMA(0, 1, 0)x(1, 1, 1, 12)12 - AIC:672.1913248054474\n",
      "ARIMA(0, 1, 1)x(0, 0, 0, 12)12 - AIC:863.9075128554731\n",
      "ARIMA(0, 1, 1)x(0, 0, 1, 12)12 - AIC:682.6620865490877\n",
      "ARIMA(0, 1, 1)x(0, 1, 0, 12)12 - AIC:810.2835541439076\n",
      "ARIMA(0, 1, 1)x(0, 1, 1, 12)12 - AIC:602.0855919266609\n",
      "ARIMA(0, 1, 1)x(1, 0, 0, 12)12 - AIC:784.6519312022257\n",
      "ARIMA(0, 1, 1)x(1, 0, 1, 12)12 - AIC:684.3730579397413\n",
      "ARIMA(0, 1, 1)x(1, 1, 0, 12)12 - AIC:672.0869486456941\n",
      "ARIMA(0, 1, 1)x(1, 1, 1, 12)12 - AIC:620.6951202146242\n",
      "ARIMA(1, 0, 0)x(0, 0, 0, 12)12 - AIC:880.8645607594376\n",
      "ARIMA(1, 0, 0)x(0, 0, 1, 12)12 - AIC:795.6884683067829\n",
      "ARIMA(1, 0, 0)x(0, 1, 0, 12)12 - AIC:872.5491774068342\n",
      "ARIMA(1, 0, 0)x(0, 1, 1, 12)12 - AIC:631.3003128833601\n",
      "ARIMA(1, 0, 0)x(1, 0, 0, 12)12 - AIC:795.2290448410997\n",
      "ARIMA(1, 0, 0)x(1, 0, 1, 12)12 - AIC:758.6067098277667\n",
      "ARIMA(1, 0, 0)x(1, 1, 0, 12)12 - AIC:661.1149116637306\n",
      "ARIMA(1, 0, 0)x(1, 1, 1, 12)12 - AIC:633.2989560008298\n",
      "ARIMA(1, 0, 1)x(0, 0, 0, 12)12 - AIC:857.7544170900949\n",
      "ARIMA(1, 0, 1)x(0, 0, 1, 12)12 - AIC:760.3927582638634\n",
      "ARIMA(1, 0, 1)x(0, 1, 0, 12)12 - AIC:857.3929074130082\n",
      "ARIMA(1, 0, 1)x(0, 1, 1, 12)12 - AIC:626.4083274601842\n",
      "ARIMA(1, 0, 1)x(1, 0, 0, 12)12 - AIC:775.4978727070393\n",
      "ARIMA(1, 0, 1)x(1, 0, 1, 12)12 - AIC:746.5849546266086\n",
      "ARIMA(1, 0, 1)x(1, 1, 0, 12)12 - AIC:661.4256265293402\n",
      "ARIMA(1, 0, 1)x(1, 1, 1, 12)12 - AIC:655.4332963979748\n",
      "ARIMA(1, 1, 0)x(0, 0, 0, 12)12 - AIC:856.9950891001822\n",
      "ARIMA(1, 1, 0)x(0, 0, 1, 12)12 - AIC:779.7927151940463\n",
      "ARIMA(1, 1, 0)x(0, 1, 0, 12)12 - AIC:858.7393203271276\n",
      "ARIMA(1, 1, 0)x(0, 1, 1, 12)12 - AIC:642.9834764762821\n",
      "ARIMA(1, 1, 0)x(1, 0, 0, 12)12 - AIC:779.7921661291924\n",
      "ARIMA(1, 1, 0)x(1, 0, 1, 12)12 - AIC:754.1888093442914\n",
      "ARIMA(1, 1, 0)x(1, 1, 0, 12)12 - AIC:665.9868226510757\n",
      "ARIMA(1, 1, 0)x(1, 1, 1, 12)12 - AIC:667.8934111090828\n",
      "ARIMA(1, 1, 1)x(0, 0, 0, 12)12 - AIC:836.8915047744174\n",
      "ARIMA(1, 1, 1)x(0, 0, 1, 12)12 - AIC:677.6874785313087\n",
      "ARIMA(1, 1, 1)x(0, 1, 0, 12)12 - AIC:811.9586979654991\n",
      "ARIMA(1, 1, 1)x(0, 1, 1, 12)12 - AIC:591.876967061404\n",
      "ARIMA(1, 1, 1)x(1, 0, 0, 12)12 - AIC:746.9492330855237\n",
      "ARIMA(1, 1, 1)x(1, 0, 1, 12)12 - AIC:673.5531465132877\n",
      "ARIMA(1, 1, 1)x(1, 1, 0, 12)12 - AIC:654.5652714257852\n",
      "ARIMA(1, 1, 1)x(1, 1, 1, 12)12 - AIC:620.9424578573476\n"
     ]
    }
   ],
   "source": [
    "for param in pdq:\n",
    "    for param_seasonal in seasonal_pdq:\n",
    "        try:\n",
    "            mod = sm.tsa.statespace.SARIMAX(y,\n",
    "                                            order=param,\n",
    "                                            seasonal_order=param_seasonal,\n",
    "                                            enforce_stationarity=False,\n",
    "                                            enforce_invertibility=False)\n",
    "\n",
    "            results = mod.fit()\n",
    "\n",
    "            print('ARIMA{}x{}12 - AIC:{}'.format(param, param_seasonal, results.aic))\n",
    "        except:\n",
    "            continue"
   ]
  },
  {
   "cell_type": "code",
   "execution_count": 15,
   "metadata": {},
   "outputs": [
    {
     "name": "stdout",
     "output_type": "stream",
     "text": [
      "==============================================================================\n",
      "                 coef    std err          z      P>|z|      [0.025      0.975]\n",
      "------------------------------------------------------------------------------\n",
      "ar.L1          1.1115      0.013     87.834      0.000       1.087       1.136\n",
      "ma.L1         -0.9707      0.034    -28.212      0.000      -1.038      -0.903\n",
      "ar.S.L12      -0.6046      0.085     -7.129      0.000      -0.771      -0.438\n",
      "sigma2         1.6913      0.187      9.044      0.000       1.325       2.058\n",
      "==============================================================================\n"
     ]
    }
   ],
   "source": [
    "mod = sm.tsa.statespace.SARIMAX(y,\n",
    "                                order=(1, 1, 1),\n",
    "                                seasonal_order=(1, 1, 0, 12),\n",
    "                                enforce_stationarity=False,\n",
    "                                enforce_invertibility=False)\n",
    "\n",
    "results = mod.fit()\n",
    "\n",
    "print(results.summary().tables[1])"
   ]
  },
  {
   "cell_type": "code",
   "execution_count": 16,
   "metadata": {},
   "outputs": [
    {
     "data": {
      "image/png": "[encoded data removed]",
      "text/plain": [
       "<Figure size 1008x504 with 1 Axes>"
      ]
     },
     "metadata": {
      "needs_background": "light"
     },
     "output_type": "display_data"
    }
   ],
   "source": [
    "pred = results.get_prediction(start=pd.to_datetime('01-01-2012'), dynamic=False)\n",
    "pred_ci = pred.conf_int()\n",
    "\n",
    "ax = y['2012':].plot(label='observed')\n",
    "pred.predicted_mean.plot(ax=ax, label='One-step ahead Forecast', alpha=.7, figsize=(14, 7))\n",
    "\n",
    "'''ax.fill_between(pred_ci.index,\n",
    "                pred_ci.iloc[:, 0],\n",
    "                pred_ci.iloc[:, 1], color='k', alpha=.2)'''\n",
    "\n",
    "ax.set_xlabel('year')\n",
    "ax.set_ylabel('days')\n",
    "plt.legend()\n",
    "\n",
    "plt.show()"
   ]
  },
  {
   "cell_type": "code",
   "execution_count": 24,
   "metadata": {},
   "outputs": [
    {
     "name": "stdout",
     "output_type": "stream",
     "text": [
      "The Root Mean Squared Error of our forecasts is 1.49\n",
      "2.231582953498502\n"
     ]
    }
   ],
   "source": [
    "y_forecasted = pred.predicted_mean\n",
    "y_truth = y['01-01-2012':]\n",
    "\n",
    "mse = ((y_forecasted - y_truth) ** 2).mean()\n",
    "\n",
    "\n",
    "\n",
    "print('The Root Mean Squared Error of our forecasts is {}'.format(round(np.sqrt(mse), 2)))\n",
    "\n"
   ]
  },
  {
   "cell_type": "code",
   "execution_count": 26,
   "metadata": {},
   "outputs": [
    {
     "data": {
      "image/png": "[encoded data removed]",
      "text/plain": [
       "<Figure size 1008x504 with 1 Axes>"
      ]
     },
     "metadata": {
      "needs_background": "light"
     },
     "output_type": "display_data"
    },
    {
     "name": "stdout",
     "output_type": "stream",
     "text": [
      "<statsmodels.tsa.statespace.mlemodel.PredictionResultsWrapper object at 0x000000001C746C18>\n"
     ]
    }
   ],
   "source": [
    "pred_uc = results.get_forecast(steps=15)\n",
    "pred_ci = pred_uc.conf_int()\n",
    "b=pred_uc.predicted_mean\n",
    "ax = y.plot(label='observed', figsize=(14, 7))\n",
    "pred_uc.predicted_mean.plot(ax=ax, label='Forecast')\n",
    "ax.fill_between(pred_ci.index,\n",
    "                pred_ci.iloc[:, 0],\n",
    "                pred_ci.iloc[:, 1], color='k', alpha=.25)\n",
    "ax.set_xlabel('year')\n",
    "ax.set_ylabel('NoOfDaysTakenConsumerFrauds')\n",
    "\n",
    "siva=pred_uc.predicted_mean\n",
    "\n",
    "plt.legend()\n",
    "plt.show()\n",
    "print(pred_uc)"
   ]
  },
  {
   "cell_type": "code",
   "execution_count": 20,
   "metadata": {},
   "outputs": [],
   "source": [
    "siva.to_csv(\"E:/OAG PREDECTION/forecast1/FUR/oag ConsumerFraudsoutputforecast.csv\")"
   ]
  },
  {
   "cell_type": "code",
   "execution_count": 32,
   "metadata": {},
   "outputs": [
    {
     "name": "stdout",
     "output_type": "stream",
     "text": [
      "2018-01-01    140.974080\n",
      "2018-02-01    149.384282\n",
      "2018-03-01    157.067521\n",
      "2018-04-01    167.705571\n",
      "2018-05-01    177.221290\n",
      "2018-06-01    189.268218\n",
      "2018-07-01    201.580125\n",
      "2018-08-01    216.856193\n",
      "2018-09-01    230.855139\n",
      "2018-10-01    245.699234\n",
      "2018-11-01    267.945534\n",
      "2018-12-01    290.145931\n",
      "2019-01-01    314.954915\n",
      "2019-02-01    340.940096\n",
      "2019-03-01    369.702382\n",
      "Freq: MS, dtype: float64\n"
     ]
    }
   ],
   "source": [
    "print(pred_uc.predicted_mean)"
   ]
  },
  {
   "cell_type": "code",
   "execution_count": null,
   "metadata": {},
   "outputs": [],
   "source": []
  },
  {
   "cell_type": "code",
   "execution_count": null,
   "metadata": {},
   "outputs": [],
   "source": []
  }
 ],
 "metadata": {
  "kernelspec": {
   "display_name": "Python 3",
   "language": "python",
   "name": "python3"
  },
  "language_info": {
   "codemirror_mode": {
    "name": "ipython",
    "version": 3
   },
   "file_extension": ".py",
   "mimetype": "text/x-python",
   "name": "python",
   "nbconvert_exporter": "python",
   "pygments_lexer": "ipython3",
   "version": "3.5.0"
  }
 },
 "nbformat": 4,
 "nbformat_minor": 2
}
